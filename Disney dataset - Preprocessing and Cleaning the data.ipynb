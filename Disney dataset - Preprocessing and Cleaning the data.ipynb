{
 "cells": [
  {
   "cell_type": "code",
   "execution_count": 1,
   "id": "b608a2bf",
   "metadata": {},
   "outputs": [],
   "source": [
    "import numpy as np\n",
    "import pandas as pd\n",
    "import math"
   ]
  },
  {
   "cell_type": "markdown",
   "id": "75619158",
   "metadata": {},
   "source": [
    "### Imputing values for excel: Disney movies total gross\n",
    "\n",
    "#### Imputation method:\n",
    "\n",
    "Most of the missing values are in columns genre and rating. These cannot be calculated. So we will replace the missing values with \"Unknown\". We are also printing the number of unknown values at the end, so that we can keep it in mind when proceeding further."
   ]
  },
  {
   "cell_type": "code",
   "execution_count": 3,
   "id": "77de4e38",
   "metadata": {},
   "outputs": [
    {
     "name": "stdout",
     "output_type": "stream",
     "text": [
      "   index                      movie_title  release_date      genre  \\\n",
      "0      0  Snow White and the Seven Dwarfs  Dec 21, 1937    Musical   \n",
      "1      1                        Pinocchio   Feb 9, 1940  Adventure   \n",
      "2      2                         Fantasia  Nov 13, 1940    Musical   \n",
      "3      3                Song of the South  Nov 12, 1946  Adventure   \n",
      "4      4                       Cinderella  Feb 15, 1950      Drama   \n",
      "\n",
      "  MPAA_rating   total_gross inflation_adjusted_gross  \n",
      "0           G  $184,925,485           $5,228,953,251  \n",
      "1           G   $84,300,000           $2,188,229,052  \n",
      "2           G   $83,320,000           $2,187,090,808  \n",
      "3           G   $65,000,000           $1,078,510,579  \n",
      "4           G   $85,000,000             $920,608,730  \n"
     ]
    }
   ],
   "source": [
    "#Read the total gross data csv file\n",
    "\n",
    "total_gross_data = pd.read_csv(\"disney_movies_total_gross.csv\")\n",
    "total_gross_data = total_gross_data[['movie_title','release_date','genre','MPAA_rating','total_gross','inflation_adjusted_gross']]\n",
    "print(total_gross_data.head())"
   ]
  },
  {
   "cell_type": "code",
   "execution_count": 16,
   "id": "5c54f44a",
   "metadata": {},
   "outputs": [
    {
     "name": "stdout",
     "output_type": "stream",
     "text": [
      "                       movie_title  release_date      genre MPAA_rating  \\\n",
      "0  Snow White and the Seven Dwarfs  Dec 21, 1937    Musical           G   \n",
      "1                        Pinocchio   Feb 9, 1940  Adventure           G   \n",
      "2                         Fantasia  Nov 13, 1940    Musical           G   \n",
      "3                Song of the South  Nov 12, 1946  Adventure           G   \n",
      "4                       Cinderella  Feb 15, 1950      Drama           G   \n",
      "5     20,000 Leagues Under the Sea  Dec 23, 1954  Adventure     Unknown   \n",
      "6               Lady and the Tramp  Jun 22, 1955      Drama           G   \n",
      "7                  Sleeping Beauty  Jan 29, 1959      Drama     Unknown   \n",
      "8                   101 Dalmatians  Jan 25, 1961     Comedy           G   \n",
      "9      The Absent Minded Professor  Mar 16, 1961     Comedy     Unknown   \n",
      "\n",
      "    total_gross inflation_adjusted_gross  \n",
      "0  $184,925,485           $5,228,953,251  \n",
      "1   $84,300,000           $2,188,229,052  \n",
      "2   $83,320,000           $2,187,090,808  \n",
      "3   $65,000,000           $1,078,510,579  \n",
      "4   $85,000,000             $920,608,730  \n",
      "5   $28,200,000             $528,279,994  \n",
      "6   $93,600,000           $1,236,035,515  \n",
      "7    $9,464,608              $21,505,832  \n",
      "8  $153,000,000           $1,362,870,985  \n",
      "9   $25,381,407             $310,094,574  \n",
      "Unknown genre 17\n",
      "Unknown MPAA 56\n"
     ]
    }
   ],
   "source": [
    "#Replace blank values with NaN\n",
    "total_gross_data_no_na = total_gross_data[['movie_title','release_date','genre','MPAA_rating','total_gross','inflation_adjusted_gross']].apply(lambda x: x.str.strip()).replace(np.nan, \"Unknown\")\n",
    "print(total_gross_data_no_na.head(10))\n",
    "print(\"Unknown genre\", total_gross_data_no_na[total_gross_data_no_na.genre == 'Unknown'].shape[0])\n",
    "print(\"Unknown MPAA\",total_gross_data_no_na[total_gross_data_no_na.MPAA_rating == 'Unknown'].shape[0])"
   ]
  },
  {
   "cell_type": "code",
   "execution_count": 17,
   "id": "ab9c567e",
   "metadata": {},
   "outputs": [],
   "source": [
    "#Save the new csv file\n",
    "total_gross_data_no_na.to_csv(\"cleaned_gross_data.csv\")"
   ]
  },
  {
   "cell_type": "markdown",
   "id": "0eb55a9a",
   "metadata": {},
   "source": [
    "### Imputing values for excel: Disney revenue 1991 - 2016\n",
    "\n",
    "#### Imputation method:\n",
    "\n",
    "Here, most of the values are present as numbers. We can see that the total is filled for all the years. This will be the key for imputation.\n",
    "If one column value is missing, we can figure that out by adding the rest of the columns and subtracting from the total.\n",
    "The rest of the Unknowns cannot be filled and will be taken as such."
   ]
  },
  {
   "cell_type": "code",
   "execution_count": 48,
   "id": "019b1567",
   "metadata": {},
   "outputs": [
    {
     "name": "stdout",
     "output_type": "stream",
     "text": [
      "Year                                 int64\n",
      "Studio Entertainment[NI 1]         float64\n",
      "Disney Consumer Products[NI 2]     float64\n",
      "Disney Interactive[NI 3][Rev 1]    float64\n",
      "Walt Disney Parks and Resorts      float64\n",
      "Disney Media Networks               object\n",
      "Total                                int64\n",
      "dtype: object\n"
     ]
    }
   ],
   "source": [
    "disney_revenue_raw = pd.read_csv(\"disney_revenue_1991-2016.csv\")\n",
    "disney_revenue = disney_revenue_raw[['Year','Studio Entertainment[NI 1]','Disney Consumer Products[NI 2]',\n",
    "                                    'Disney Interactive[NI 3][Rev 1]','Walt Disney Parks and Resorts',\n",
    "                                    'Disney Media Networks','Total']].copy()\n",
    "disney_revenue = disney_revenue[['Year','Studio Entertainment[NI 1]','Disney Consumer Products[NI 2]',\n",
    "                                 'Disney Interactive[NI 3][Rev 1]','Walt Disney Parks and Resorts',\n",
    "                                 'Disney Media Networks','Total']].apply(lambda x:x).replace(np.nan, -99)\n",
    "\n",
    "disney_revenue[\"Disney Media Networks\"] = disney_revenue[\"Disney Media Networks\"].replace(\",\", \"\", regex=True)\n",
    "\n",
    "print(disney_revenue.dtypes)\n",
    "\n",
    "#print(disney_revenue)"
   ]
  },
  {
   "cell_type": "code",
   "execution_count": 59,
   "id": "88bc35e4",
   "metadata": {},
   "outputs": [
    {
     "name": "stdout",
     "output_type": "stream",
     "text": [
      "   Year  Studio Entertainment[NI 1]  Disney Consumer Products[NI 2]  \\\n",
      "0  1991                      2593.0                           724.0   \n",
      "1  1992                      3115.0                          1081.0   \n",
      "2  1993                      3673.4                          1415.1   \n",
      "3  1994                      4793.0                          1798.2   \n",
      "\n",
      "   Disney Interactive[NI 3][Rev 1]  Walt Disney Parks and Resorts  \\\n",
      "0                            -99.0                         2794.0   \n",
      "1                            -99.0                         3306.0   \n",
      "2                            -99.0                         3440.7   \n",
      "3                              1.0                         3463.6   \n",
      "\n",
      "  Disney Media Networks  Total    2  \n",
      "0                   -99   6111  NaN  \n",
      "1                   -99   7502  NaN  \n",
      "2                   -99   8529  NaN  \n",
      "3                   359  10414  1.0  \n"
     ]
    }
   ],
   "source": [
    "for index, row in disney_revenue.iterrows():\n",
    "    all_numbers = [row[\"Studio Entertainment[NI 1]\"],row[\"Disney Consumer Products[NI 2]\"],\n",
    "                   row[\"Disney Interactive[NI 3][Rev 1]\"],row[\"Walt Disney Parks and Resorts\"],int(row[\"Disney Media Networks\"])]\n",
    "    total = row[\"Total\"]\n",
    "    no_of_missing = all_numbers.count(-99)\n",
    "    #print(all_numbers)\n",
    "    #print(no_of_missing)\n",
    "    if no_of_missing == 1:\n",
    "        #print(index,\"Imputing\")\n",
    "        sum_of_nos = math.floor(sum(all_numbers))+99\n",
    "        #print(all_numbers)\n",
    "        #print(total,sum_of_nos)\n",
    "        missing_num = total - sum_of_nos\n",
    "        index_miss = all_numbers.index(-99)\n",
    "        #row[index_miss+1] = missing_num\n",
    "        disney_revenue.at[index,'Disney Interactive[NI 3][Rev 1]'] = missing_num\n",
    "        #print(\"missing num\",missing_num)\n",
    "    \n",
    "print(disney_revenue.head(4))"
   ]
  },
  {
   "cell_type": "code",
   "execution_count": 61,
   "id": "347cbd23",
   "metadata": {},
   "outputs": [],
   "source": [
    "disney_revenue.to_csv(\"cleaned_disney_revenue.csv\")"
   ]
  },
  {
   "cell_type": "markdown",
   "id": "a7c0eba2",
   "metadata": {},
   "source": [
    "### Imputing values for excel: Disney director\n",
    "\n",
    "#### Imputation method:\n",
    "Here, the data for directors is mostly present. But to get more insights, we are combining this data with the gross data. We are combining the data on \"movie name\""
   ]
  },
  {
   "cell_type": "code",
   "execution_count": 7,
   "id": "331b1964",
   "metadata": {},
   "outputs": [
    {
     "name": "stdout",
     "output_type": "stream",
     "text": [
      "                              name        director\n",
      "0  Snow White and the Seven Dwarfs      David Hand\n",
      "1                        Pinocchio  Ben Sharpsteen\n",
      "2                         Fantasia    full credits\n",
      "                       movie_title  release_date      genre MPAA_rating  \\\n",
      "0  Snow White and the Seven Dwarfs  Dec 21, 1937    Musical           G   \n",
      "1                        Pinocchio   Feb 9, 1940  Adventure           G   \n",
      "2                         Fantasia  Nov 13, 1940    Musical           G   \n",
      "\n",
      "    total_gross inflation_adjusted_gross  \n",
      "0  $184,925,485           $5,228,953,251  \n",
      "1   $84,300,000           $2,188,229,052  \n",
      "2   $83,320,000           $2,187,090,808  \n"
     ]
    }
   ],
   "source": [
    "disney_director = pd.read_csv(\"disney-director.csv\")\n",
    "disney_director = disney_director[['name','director']].copy()\n",
    "print(disney_director.head(3))\n",
    "\n",
    "total_gross_data = pd.read_csv(\"cleaned_gross_data.csv\")\n",
    "total_gross_data = total_gross_data[['movie_title','release_date','genre','MPAA_rating','total_gross','inflation_adjusted_gross']]\n",
    "print(total_gross_data.head(3))"
   ]
  },
  {
   "cell_type": "code",
   "execution_count": 8,
   "id": "f78d3eb3",
   "metadata": {},
   "outputs": [
    {
     "name": "stdout",
     "output_type": "stream",
     "text": [
      "                              name        director  release_date      genre  \\\n",
      "0  Snow White and the Seven Dwarfs      David Hand  Dec 21, 1937    Musical   \n",
      "1                        Pinocchio  Ben Sharpsteen   Feb 9, 1940  Adventure   \n",
      "2                         Fantasia    full credits  Nov 13, 1940    Musical   \n",
      "3                            Dumbo  Ben Sharpsteen           NaN        NaN   \n",
      "4                            Bambi      David Hand           NaN        NaN   \n",
      "\n",
      "  MPAA_rating   total_gross inflation_adjusted_gross  \n",
      "0           G  $184,925,485           $5,228,953,251  \n",
      "1           G   $84,300,000           $2,188,229,052  \n",
      "2           G   $83,320,000           $2,187,090,808  \n",
      "3         NaN           NaN                      NaN  \n",
      "4         NaN           NaN                      NaN  \n"
     ]
    }
   ],
   "source": [
    "for index, row in disney_director.iterrows():\n",
    "    corr_revenue = total_gross_data.loc[total_gross_data['movie_title']==row[\"name\"]]\n",
    "    if not corr_revenue.empty:\n",
    "        disney_director.at[index,'release_date']=corr_revenue.iloc[0][\"release_date\"]\n",
    "        disney_director.at[index,'genre']=corr_revenue.iloc[0][\"genre\"]\n",
    "        disney_director.at[index,'MPAA_rating']=corr_revenue.iloc[0][\"MPAA_rating\"]\n",
    "        disney_director.at[index,'total_gross']=corr_revenue.iloc[0][\"total_gross\"]\n",
    "        disney_director.at[index,'inflation_adjusted_gross']=corr_revenue.iloc[0][\"inflation_adjusted_gross\"]\n",
    "    #print(row)\n",
    "    \n",
    "print(disney_director.head(5))"
   ]
  },
  {
   "cell_type": "code",
   "execution_count": 9,
   "id": "c9a5ad39",
   "metadata": {},
   "outputs": [
    {
     "name": "stdout",
     "output_type": "stream",
     "text": [
      "                              name        director  release_date      genre  \\\n",
      "0  Snow White and the Seven Dwarfs      David Hand  Dec 21, 1937    Musical   \n",
      "1                        Pinocchio  Ben Sharpsteen   Feb 9, 1940  Adventure   \n",
      "2                         Fantasia    full credits  Nov 13, 1940    Musical   \n",
      "3                            Dumbo  Ben Sharpsteen       unknown    unknown   \n",
      "4                            Bambi      David Hand       unknown    unknown   \n",
      "\n",
      "  MPAA_rating   total_gross inflation_adjusted_gross  \n",
      "0           G  $184,925,485           $5,228,953,251  \n",
      "1           G   $84,300,000           $2,188,229,052  \n",
      "2           G   $83,320,000           $2,187,090,808  \n",
      "3     unknown             0                        0  \n",
      "4     unknown             0                        0  \n"
     ]
    }
   ],
   "source": [
    "#Replace blank values with NaN\n",
    "disney_director[\"release_date\"].fillna(\"unknown\", inplace=True)\n",
    "disney_director[\"genre\"].fillna(\"unknown\", inplace=True)\n",
    "disney_director[\"MPAA_rating\"].fillna(\"unknown\", inplace=True)\n",
    "\n",
    "disney_director[\"total_gross\"].fillna(0, inplace=True)\n",
    "disney_director[\"inflation_adjusted_gross\"].fillna(0, inplace=True)\n",
    "\n",
    "print(disney_director.head(5))\n"
   ]
  },
  {
   "cell_type": "code",
   "execution_count": 10,
   "id": "d8ba8a20",
   "metadata": {},
   "outputs": [
    {
     "name": "stdout",
     "output_type": "stream",
     "text": [
      "Unknown genre 11\n"
     ]
    }
   ],
   "source": [
    "#Check percentages of unknown\n",
    "print(\"Unknown genre\", disney_director[disney_director.genre == 'unknown'].shape[0])"
   ]
  },
  {
   "cell_type": "code",
   "execution_count": 11,
   "id": "d9b37a3b",
   "metadata": {},
   "outputs": [],
   "source": [
    "disney_director.to_csv(\"cleaned_disney_director.csv\")"
   ]
  },
  {
   "cell_type": "code",
   "execution_count": null,
   "id": "9372f5e1",
   "metadata": {},
   "outputs": [],
   "source": []
  }
 ],
 "metadata": {
  "kernelspec": {
   "display_name": "Python 3 (ipykernel)",
   "language": "python",
   "name": "python3"
  },
  "language_info": {
   "codemirror_mode": {
    "name": "ipython",
    "version": 3
   },
   "file_extension": ".py",
   "mimetype": "text/x-python",
   "name": "python",
   "nbconvert_exporter": "python",
   "pygments_lexer": "ipython3",
   "version": "3.9.12"
  }
 },
 "nbformat": 4,
 "nbformat_minor": 5
}
